{
 "cells": [
  {
   "cell_type": "code",
   "execution_count": 7,
   "metadata": {},
   "outputs": [],
   "source": [
    "from bs4 import BeautifulSoup\n",
    "import requests\n",
    "import csv\n",
    "import unicodedata"
   ]
  },
  {
   "cell_type": "code",
   "execution_count": null,
   "metadata": {},
   "outputs": [],
   "source": [
    "# base URL and construct weather URL\n",
    "website = \"https://www.timeanddate.com\"\n",
    "weather_url = f\"{website}/weather/india\"\n",
    "\n",
    "# Fetch the webpage content\n",
    "result = requests.get(weather_url)\n",
    "format = result.text\n",
    "\n",
    "# BeautifulSoup object for parsing HTML\n",
    "parse = BeautifulSoup(format,'html')\n",
    "\n",
    "# Find the weather table using its class\n",
    "result_parse = parse.find(\"table\", class_ = \"zebra fw tb-wt zebra va-m\")\n",
    "\n",
    "# Function to clean text by removing non-ASCII characters\n",
    "def clean_text(text):\n",
    "    cleaned = unicodedata.normalize('NFKD', text).encode('ascii', 'ignore').decode('utf-8')\n",
    "    return cleaned.strip()\n",
    "\n",
    "# Create and write to CSV file\n",
    "with open('weather_data.csv', 'w', newline='', encoding='utf-8') as file:\n",
    "    writer = csv.writer(file)\n",
    "    writer.writerow(['City', 'Time', 'Temperature'])\n",
    "    \n",
    "    # Find all table rows\n",
    "    rows = result_parse.find_all('tr')\n",
    "    \n",
    "    # Process each row to extract weather data\n",
    "    for row in rows:\n",
    "        city_link = row.find('a')\n",
    "        if city_link:\n",
    "            # Extract city name\n",
    "            city_name = clean_text(city_link.text)\n",
    "            \n",
    "            # Extract time\n",
    "            time_cell = row.find('td', id=lambda x: x and x.startswith('p'))\n",
    "            time = clean_text(time_cell.text) if time_cell else None\n",
    "            \n",
    "            # Extract temperature\n",
    "            temp_cell = row.find('td', class_='rbi')\n",
    "            if temp_cell:\n",
    "                temperature = clean_text(temp_cell.text).replace('\\xa0', ' ')\n",
    "                temperature = temperature.split()[0] + '°C'\n",
    "            else:\n",
    "                temperature = None\n",
    "            \n",
    "            writer.writerow([city_name, time, temperature])\n",
    "\n",
    "    \n",
    "    \n",
    "\n",
    "\n",
    "\n",
    "\n",
    "\n"
   ]
  },
  {
   "cell_type": "code",
   "execution_count": null,
   "metadata": {},
   "outputs": [],
   "source": []
  }
 ],
 "metadata": {
  "kernelspec": {
   "display_name": "Python 3",
   "language": "python",
   "name": "python3"
  },
  "language_info": {
   "codemirror_mode": {
    "name": "ipython",
    "version": 3
   },
   "file_extension": ".py",
   "mimetype": "text/x-python",
   "name": "python",
   "nbconvert_exporter": "python",
   "pygments_lexer": "ipython3",
   "version": "3.12.6"
  }
 },
 "nbformat": 4,
 "nbformat_minor": 2
}
